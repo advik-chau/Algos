{
 "cells": [
  {
   "cell_type": "code",
   "execution_count": null,
   "metadata": {},
   "outputs": [],
   "source": [
    "import numpy as np\n",
    "import pandas as pd\n",
    "import matplotlib.pyplot as plt\n",
    "plt.style.use(\"seaborn-bright\")\n",
    "plt.rcParams['lines.linewidth'] = 1\n",
    "import pandas_datareader as web\n",
    "import datetime as dt"
   ]
  },
  {
   "cell_type": "code",
   "execution_count": null,
   "metadata": {},
   "outputs": [],
   "source": [
    "start=\"1-1-2017\"\n",
    "end=dt.datetime.today()\n",
    "ticker=\"SPY\"\n",
    "data=web.DataReader(ticker,\"yahoo\",start,end)\n",
    "close=data[\"Adj Close\"]\n",
    "close=close.reset_index(drop=True)\n",
    "inv=10000"
   ]
  },
  {
   "cell_type": "code",
   "execution_count": null,
   "metadata": {},
   "outputs": [],
   "source": [
    "win=100\n",
    "std=2"
   ]
  },
  {
   "cell_type": "code",
   "execution_count": null,
   "metadata": {},
   "outputs": [],
   "source": []
  },
  {
   "cell_type": "code",
   "execution_count": null,
   "metadata": {},
   "outputs": [],
   "source": [
    "def bbstrat(win,std):\n",
    "    \n",
    "    df=pd.DataFrame(index=data['Close'].index)\n",
    "    df['Position']=None\n",
    "    df['Sreturn']=None\n",
    "    df['Mreturn']=None\n",
    "    df['Mavg']=None\n",
    "    df['Rstd']=None\n",
    "    df['Position']=df['Position'].fillna(method='ffill',inplace=True)\n",
    "    df['Sreturn']=df['Sreturn'].fillna(method='ffill',inplace=True)\n",
    "    df['Mreturn']=df['Mreturn'].fillna(method='ffill',inplace=True)\n",
    "    \n",
    "    df['Mavg']=data['Close'].rolling(win).mean()\n",
    "    df['Rstd']=data['Close'].rolling(win).std()\n",
    "    \n",
    "    df['bbhi']=df['Mavg']+(df['Rstd']*std)\n",
    "    df['bblo']=df['Rstd']-(df['Rstd']*std)\n",
    "    data['bb']=df['bblo']\n",
    "    \n",
    "    for i in range(len(data['Close'])):\n",
    "        if data['Close'][i]>bbhi[i] and data['Close'][i-1]<bbhi[i]:\n",
    "            df['Position'].iloc[i]=1\n",
    "\n",
    "        elif data['Close'][i]<bbhi[i] and data['Close'][i-1]>bbhi[i]:\n",
    "            df['Position'].iloc[i]=-1\n",
    "\n",
    "    df['Mreturn']=np.log(data['Adj Close']/data['Adj Close'].shift(1))*df['Position']*inv\n",
    "    df['Sreturn']=df['Mreturn']*df['Position']*inv\n",
    "    pnl=df['Mreturn'].sum()\n",
    "    df['pnl']=pnl\n",
    "    \n",
    "    #tdata['Sreturn'].cumsum().plot(figsize=(16,12))\n",
    "    plt.figure(dpi=150)\n",
    "    plt.plot(df['Mavg'],\"r\")\n",
    "    plt.show()"
   ]
  },
  {
   "cell_type": "code",
   "execution_count": null,
   "metadata": {},
   "outputs": [],
   "source": [
    "bbstrat(30,2)"
   ]
  },
  {
   "cell_type": "code",
   "execution_count": null,
   "metadata": {},
   "outputs": [],
   "source": [
    "plt.plot(data['bb'],\"r\")"
   ]
  },
  {
   "cell_type": "code",
   "execution_count": null,
   "metadata": {},
   "outputs": [],
   "source": []
  },
  {
   "cell_type": "code",
   "execution_count": null,
   "metadata": {},
   "outputs": [],
   "source": []
  },
  {
   "cell_type": "code",
   "execution_count": null,
   "metadata": {},
   "outputs": [],
   "source": []
  },
  {
   "cell_type": "code",
   "execution_count": null,
   "metadata": {},
   "outputs": [],
   "source": []
  }
 ],
 "metadata": {
  "kernelspec": {
   "display_name": "Python 3",
   "language": "python",
   "name": "python3"
  },
  "language_info": {
   "codemirror_mode": {
    "name": "ipython",
    "version": 3
   },
   "file_extension": ".py",
   "mimetype": "text/x-python",
   "name": "python",
   "nbconvert_exporter": "python",
   "pygments_lexer": "ipython3",
   "version": "3.7.6"
  }
 },
 "nbformat": 4,
 "nbformat_minor": 4
}

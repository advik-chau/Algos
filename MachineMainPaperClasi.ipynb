{
 "cells": [
  {
   "cell_type": "code",
   "execution_count": 6,
   "metadata": {},
   "outputs": [],
   "source": [
    "import numpy as np\n",
    "import pandas as pd\n",
    "import seaborn as sns\n",
    "import matplotlib.pyplot as plt\n",
    "plt.style.use(\"dark_background\")\n",
    "import pandas_datareader as web\n",
    "import datetime as dt\n",
    "from sklearn.tree import DecisionTreeRegressor, DecisionTreeClassifier\n",
    "from sklearn.ensemble import RandomForestRegressor, RandomForestClassifier\n",
    "from sklearn.linear_model import LinearRegression\n",
    "from sklearn.naive_bayes import GaussianNB\n",
    "from sklearn.preprocessing import StandardScaler\n",
    "import talib\n",
    "from sklearn.svm import SVC\n",
    "from sklearn.metrics import mean_squared_error as mse\n",
    "from sklearn.metrics import mean_absolute_error as mae\n",
    "from sklearn.metrics import r2_score\n",
    "from sklearn.metrics import accuracy_score,balanced_accuracy_score,f1_score,average_precision_score,precision_score,confusion_matrix\n",
    "from keras.models import Sequential\n",
    "import time\n",
    "from keras.layers import Dense\n",
    "import tensorflow as tf\n",
    "from sklearn.preprocessing import MinMaxScaler\n",
    "from sklearn import preprocessing\n",
    "from tensorflow.keras.utils import to_categorical\n",
    "from sklearn.neural_network import MLPClassifier, MLPRegressor\n",
    "from sklearn.neighbors import KNeighborsClassifier as knn\n",
    "from sklearn.ensemble import ExtraTreesClassifier\n",
    "from sklearn.neighbors import KNeighborsRegressor\n",
    "from sklearn.ensemble import BaggingClassifier\n",
    "from sklearn.model_selection import GridSearchCV, RandomizedSearchCV\n",
    "from sklearn.linear_model import LogisticRegression, SGDRegressor, Lasso, ElasticNet, Perceptron, Ridge\n",
    "from sklearn import svm\n",
    "from tensorflow.keras import layers\n",
    "from sklearn.feature_selection import RFE, SelectFromModel, SelectPercentile, mutual_info_regression, mutual_info_classif, SelectFpr, VarianceThreshold, RFECV\n",
    "from sklearn.feature_selection import SelectKBest, f_classif, f_regression, chi2\n",
    "#from yellowbrick.model_selection.importances import FeatureImportances\n",
    "#from xgboost import XGBRegressor"
   ]
  },
  {
   "cell_type": "code",
   "execution_count": 7,
   "metadata": {},
   "outputs": [
    {
     "name": "stderr",
     "output_type": "stream",
     "text": [
      "/Users/advikchaudhary/miniforge3/lib/python3.9/site-packages/pandas/core/indexing.py:1732: SettingWithCopyWarning: \n",
      "A value is trying to be set on a copy of a slice from a DataFrame\n",
      "\n",
      "See the caveats in the documentation: https://pandas.pydata.org/pandas-docs/stable/user_guide/indexing.html#returning-a-view-versus-a-copy\n",
      "  self._setitem_single_block(indexer, value, name)\n"
     ]
    }
   ],
   "source": [
    "#Getting Data\n",
    "start=\"1-1-1993\"\n",
    "end=dt.datetime.today()\n",
    "\n",
    "#ticker=\"^GSPC\"\n",
    "ticker=\"^BSESN\"\n",
    "#ticker=\"UBSG.SW\"\n",
    "#ticker=\"^IXIC\"\n",
    "#ticker=\"^N225\"\n",
    "#ticker=\"EZA\"\n",
    "\n",
    "data=web.DataReader(ticker,\"yahoo\",start,end)\n",
    "data=data[:]###\n",
    "\n",
    "#Adding Pct Change/ Mov\n",
    "data['Pct Change']=data['Close'].pct_change()*100\n",
    "data['Movement']=None\n",
    "m=0.2\n",
    "for i in range(0, len(data['Pct Change'])):\n",
    "    if data['Pct Change'].iloc[i]<-m:\n",
    "        data['Movement'].iloc[i]=-1\n",
    "    elif data['Pct Change'].iloc[i]>m:\n",
    "        data['Movement'].iloc[i]=1\n",
    "    else:\n",
    "        data['Movement'].iloc[i]=0"
   ]
  },
  {
   "cell_type": "code",
   "execution_count": 8,
   "metadata": {},
   "outputs": [
    {
     "name": "stderr",
     "output_type": "stream",
     "text": [
      "/var/folders/rf/gmx6s6x51w3f6fwrwhjcrzjm0000gn/T/ipykernel_68965/1742581705.py:14: PerformanceWarning: DataFrame is highly fragmented.  This is usually the result of calling `frame.insert` many times, which has poor performance.  Consider joining all columns at once using pd.concat(axis=1) instead.  To get a de-fragmented frame, use `newframe = frame.copy()`\n",
      "  fdata[f'MA {i}']=talib.MA(data['Close'], timeperiod=i, matype=0)\n",
      "/var/folders/rf/gmx6s6x51w3f6fwrwhjcrzjm0000gn/T/ipykernel_68965/1742581705.py:16: PerformanceWarning: DataFrame is highly fragmented.  This is usually the result of calling `frame.insert` many times, which has poor performance.  Consider joining all columns at once using pd.concat(axis=1) instead.  To get a de-fragmented frame, use `newframe = frame.copy()`\n",
      "  fdata[f'SMA {i}'] = talib.SMA(data['Close'], timeperiod=i)\n",
      "/var/folders/rf/gmx6s6x51w3f6fwrwhjcrzjm0000gn/T/ipykernel_68965/1742581705.py:18: PerformanceWarning: DataFrame is highly fragmented.  This is usually the result of calling `frame.insert` many times, which has poor performance.  Consider joining all columns at once using pd.concat(axis=1) instead.  To get a de-fragmented frame, use `newframe = frame.copy()`\n",
      "  fdata[f'DEMA {i}'] = talib.DEMA(data['Close'], timeperiod=i)\n",
      "/var/folders/rf/gmx6s6x51w3f6fwrwhjcrzjm0000gn/T/ipykernel_68965/1742581705.py:20: PerformanceWarning: DataFrame is highly fragmented.  This is usually the result of calling `frame.insert` many times, which has poor performance.  Consider joining all columns at once using pd.concat(axis=1) instead.  To get a de-fragmented frame, use `newframe = frame.copy()`\n",
      "  fdata[f'TEMA {i}'] = talib.TEMA(data['Close'], timeperiod=i)\n",
      "/var/folders/rf/gmx6s6x51w3f6fwrwhjcrzjm0000gn/T/ipykernel_68965/1742581705.py:22: PerformanceWarning: DataFrame is highly fragmented.  This is usually the result of calling `frame.insert` many times, which has poor performance.  Consider joining all columns at once using pd.concat(axis=1) instead.  To get a de-fragmented frame, use `newframe = frame.copy()`\n",
      "  fdata[f'EMA {i}'] = talib.EMA(data['Close'], timeperiod=i)\n",
      "/var/folders/rf/gmx6s6x51w3f6fwrwhjcrzjm0000gn/T/ipykernel_68965/1742581705.py:24: PerformanceWarning: DataFrame is highly fragmented.  This is usually the result of calling `frame.insert` many times, which has poor performance.  Consider joining all columns at once using pd.concat(axis=1) instead.  To get a de-fragmented frame, use `newframe = frame.copy()`\n",
      "  fdata[f'STDDEV {i}'] = talib.STDDEV(data['Close'], timeperiod=i, nbdev=1)\n",
      "/var/folders/rf/gmx6s6x51w3f6fwrwhjcrzjm0000gn/T/ipykernel_68965/1742581705.py:26: PerformanceWarning: DataFrame is highly fragmented.  This is usually the result of calling `frame.insert` many times, which has poor performance.  Consider joining all columns at once using pd.concat(axis=1) instead.  To get a de-fragmented frame, use `newframe = frame.copy()`\n",
      "  fdata[f'SAREXT {i}'] = talib.SAREXT(data['High'], data['Low'], startvalue=i, offsetonreverse=0,\n",
      "/var/folders/rf/gmx6s6x51w3f6fwrwhjcrzjm0000gn/T/ipykernel_68965/1742581705.py:30: PerformanceWarning: DataFrame is highly fragmented.  This is usually the result of calling `frame.insert` many times, which has poor performance.  Consider joining all columns at once using pd.concat(axis=1) instead.  To get a de-fragmented frame, use `newframe = frame.copy()`\n",
      "  fdata[f'WMA {i}'] = talib.WMA(data['Close'], timeperiod=i)\n",
      "/var/folders/rf/gmx6s6x51w3f6fwrwhjcrzjm0000gn/T/ipykernel_68965/1742581705.py:32: PerformanceWarning: DataFrame is highly fragmented.  This is usually the result of calling `frame.insert` many times, which has poor performance.  Consider joining all columns at once using pd.concat(axis=1) instead.  To get a de-fragmented frame, use `newframe = frame.copy()`\n",
      "  fdata['Price Volitility']=data['Pct Change'].rolling(i).mean()\n",
      "/var/folders/rf/gmx6s6x51w3f6fwrwhjcrzjm0000gn/T/ipykernel_68965/1742581705.py:35: PerformanceWarning: DataFrame is highly fragmented.  This is usually the result of calling `frame.insert` many times, which has poor performance.  Consider joining all columns at once using pd.concat(axis=1) instead.  To get a de-fragmented frame, use `newframe = frame.copy()`\n",
      "  fdata['AVGPRICE'] = talib.AVGPRICE(data['Open'],data['High'], data['Low'], data['Close'])\n",
      "/var/folders/rf/gmx6s6x51w3f6fwrwhjcrzjm0000gn/T/ipykernel_68965/1742581705.py:36: PerformanceWarning: DataFrame is highly fragmented.  This is usually the result of calling `frame.insert` many times, which has poor performance.  Consider joining all columns at once using pd.concat(axis=1) instead.  To get a de-fragmented frame, use `newframe = frame.copy()`\n",
      "  fdata['MEDPRICE'] = talib.MEDPRICE(data['High'], data['Low'])\n",
      "/var/folders/rf/gmx6s6x51w3f6fwrwhjcrzjm0000gn/T/ipykernel_68965/1742581705.py:37: PerformanceWarning: DataFrame is highly fragmented.  This is usually the result of calling `frame.insert` many times, which has poor performance.  Consider joining all columns at once using pd.concat(axis=1) instead.  To get a de-fragmented frame, use `newframe = frame.copy()`\n",
      "  fdata['TYPPRICE'] = talib.TYPPRICE(data['High'], data['Low'], data['Close'])\n",
      "/var/folders/rf/gmx6s6x51w3f6fwrwhjcrzjm0000gn/T/ipykernel_68965/1742581705.py:38: PerformanceWarning: DataFrame is highly fragmented.  This is usually the result of calling `frame.insert` many times, which has poor performance.  Consider joining all columns at once using pd.concat(axis=1) instead.  To get a de-fragmented frame, use `newframe = frame.copy()`\n",
      "  fdata['WCLPRICE'] = talib.TYPPRICE(data['High'], data['Low'], data['Close'])\n",
      "/var/folders/rf/gmx6s6x51w3f6fwrwhjcrzjm0000gn/T/ipykernel_68965/1742581705.py:42: PerformanceWarning: DataFrame is highly fragmented.  This is usually the result of calling `frame.insert` many times, which has poor performance.  Consider joining all columns at once using pd.concat(axis=1) instead.  To get a de-fragmented frame, use `newframe = frame.copy()`\n",
      "  fdata[f'ADX {i}'] = talib.ADX(data['High'],data['Low'], data['Close'], timeperiod=i)\n",
      "/var/folders/rf/gmx6s6x51w3f6fwrwhjcrzjm0000gn/T/ipykernel_68965/1742581705.py:44: PerformanceWarning: DataFrame is highly fragmented.  This is usually the result of calling `frame.insert` many times, which has poor performance.  Consider joining all columns at once using pd.concat(axis=1) instead.  To get a de-fragmented frame, use `newframe = frame.copy()`\n",
      "  fdata[f'ADXR {i}'] = talib.ADXR(data['High'],data['Low'], data['Close'], timeperiod=i)\n",
      "/var/folders/rf/gmx6s6x51w3f6fwrwhjcrzjm0000gn/T/ipykernel_68965/1742581705.py:46: PerformanceWarning: DataFrame is highly fragmented.  This is usually the result of calling `frame.insert` many times, which has poor performance.  Consider joining all columns at once using pd.concat(axis=1) instead.  To get a de-fragmented frame, use `newframe = frame.copy()`\n",
      "  fdata[f'APO {i}'] = talib.APO(data['Close'], fastperiod=i, slowperiod=i*2, matype=0)\n",
      "/var/folders/rf/gmx6s6x51w3f6fwrwhjcrzjm0000gn/T/ipykernel_68965/1742581705.py:48: PerformanceWarning: DataFrame is highly fragmented.  This is usually the result of calling `frame.insert` many times, which has poor performance.  Consider joining all columns at once using pd.concat(axis=1) instead.  To get a de-fragmented frame, use `newframe = frame.copy()`\n",
      "  fdata[f'AROON D{i}'], fdata[f'AROON U{i}'] = talib.AROON(data['High'],data['Low'], timeperiod=i)\n",
      "/var/folders/rf/gmx6s6x51w3f6fwrwhjcrzjm0000gn/T/ipykernel_68965/1742581705.py:50: PerformanceWarning: DataFrame is highly fragmented.  This is usually the result of calling `frame.insert` many times, which has poor performance.  Consider joining all columns at once using pd.concat(axis=1) instead.  To get a de-fragmented frame, use `newframe = frame.copy()`\n",
      "  fdata[f'AROONOSC {i}'] = talib.AROONOSC(data['High'],data['Low'], timeperiod=i)\n",
      "/var/folders/rf/gmx6s6x51w3f6fwrwhjcrzjm0000gn/T/ipykernel_68965/1742581705.py:52: PerformanceWarning: DataFrame is highly fragmented.  This is usually the result of calling `frame.insert` many times, which has poor performance.  Consider joining all columns at once using pd.concat(axis=1) instead.  To get a de-fragmented frame, use `newframe = frame.copy()`\n",
      "  fdata[f'BOP {i}'] = talib.BOP(data['Open'], data['High'],data['Low'], data['Close'])\n",
      "/var/folders/rf/gmx6s6x51w3f6fwrwhjcrzjm0000gn/T/ipykernel_68965/1742581705.py:54: PerformanceWarning: DataFrame is highly fragmented.  This is usually the result of calling `frame.insert` many times, which has poor performance.  Consider joining all columns at once using pd.concat(axis=1) instead.  To get a de-fragmented frame, use `newframe = frame.copy()`\n",
      "  fdata[f'CCI {i}'] = talib.CCI(data['High'],data['Low'], data['Close'], timeperiod=i)\n",
      "/var/folders/rf/gmx6s6x51w3f6fwrwhjcrzjm0000gn/T/ipykernel_68965/1742581705.py:56: PerformanceWarning: DataFrame is highly fragmented.  This is usually the result of calling `frame.insert` many times, which has poor performance.  Consider joining all columns at once using pd.concat(axis=1) instead.  To get a de-fragmented frame, use `newframe = frame.copy()`\n",
      "  fdata[f'CMO {i}'] = talib.CMO(data['Close'], timeperiod=i)\n",
      "/var/folders/rf/gmx6s6x51w3f6fwrwhjcrzjm0000gn/T/ipykernel_68965/1742581705.py:58: PerformanceWarning: DataFrame is highly fragmented.  This is usually the result of calling `frame.insert` many times, which has poor performance.  Consider joining all columns at once using pd.concat(axis=1) instead.  To get a de-fragmented frame, use `newframe = frame.copy()`\n",
      "  fdata[f'DX {i}'] = talib.DX(data['High'],data['Low'], data['Close'], timeperiod=i)\n",
      "/var/folders/rf/gmx6s6x51w3f6fwrwhjcrzjm0000gn/T/ipykernel_68965/1742581705.py:60: PerformanceWarning: DataFrame is highly fragmented.  This is usually the result of calling `frame.insert` many times, which has poor performance.  Consider joining all columns at once using pd.concat(axis=1) instead.  To get a de-fragmented frame, use `newframe = frame.copy()`\n",
      "  fdata[f'MACD MACD {i}'], fdata[f'MACD SIGNAL{i}'], fdata[f'MACD HIST{i}'] = talib.MACD(data['Close'], fastperiod=i, slowperiod=i*2, signalperiod=i)\n",
      "/var/folders/rf/gmx6s6x51w3f6fwrwhjcrzjm0000gn/T/ipykernel_68965/1742581705.py:62: PerformanceWarning: DataFrame is highly fragmented.  This is usually the result of calling `frame.insert` many times, which has poor performance.  Consider joining all columns at once using pd.concat(axis=1) instead.  To get a de-fragmented frame, use `newframe = frame.copy()`\n",
      "  fdata[f'MACDEXT MACD {i}'], fdata[f'MACDEXT SIGNAL{i}'], fdata[f'MACDEXT HIST{i}'] = talib.MACDEXT(data['Close'], fastperiod=i, fastmatype=0, slowperiod=i*2,\n",
      "/var/folders/rf/gmx6s6x51w3f6fwrwhjcrzjm0000gn/T/ipykernel_68965/1742581705.py:65: PerformanceWarning: DataFrame is highly fragmented.  This is usually the result of calling `frame.insert` many times, which has poor performance.  Consider joining all columns at once using pd.concat(axis=1) instead.  To get a de-fragmented frame, use `newframe = frame.copy()`\n",
      "  fdata[f'MACDFIX MACD {i}'], fdata[f'MACDFIX SIGNAL{i}'], fdata[f'MACDFIX HIST{i}'] = talib.MACDFIX(data['Close'], signalperiod=9)\n",
      "/var/folders/rf/gmx6s6x51w3f6fwrwhjcrzjm0000gn/T/ipykernel_68965/1742581705.py:67: PerformanceWarning: DataFrame is highly fragmented.  This is usually the result of calling `frame.insert` many times, which has poor performance.  Consider joining all columns at once using pd.concat(axis=1) instead.  To get a de-fragmented frame, use `newframe = frame.copy()`\n",
      "  fdata[f'MFI {i}'] = talib.MFI(data['High'],data['Low'], data['Close'], data['Volume'], timeperiod=i)\n",
      "/var/folders/rf/gmx6s6x51w3f6fwrwhjcrzjm0000gn/T/ipykernel_68965/1742581705.py:69: PerformanceWarning: DataFrame is highly fragmented.  This is usually the result of calling `frame.insert` many times, which has poor performance.  Consider joining all columns at once using pd.concat(axis=1) instead.  To get a de-fragmented frame, use `newframe = frame.copy()`\n",
      "  fdata[f'MINUS_DI {i}'] = talib.MINUS_DI(data['High'],data['Low'], data['Close'], timeperiod=i)\n",
      "/var/folders/rf/gmx6s6x51w3f6fwrwhjcrzjm0000gn/T/ipykernel_68965/1742581705.py:71: PerformanceWarning: DataFrame is highly fragmented.  This is usually the result of calling `frame.insert` many times, which has poor performance.  Consider joining all columns at once using pd.concat(axis=1) instead.  To get a de-fragmented frame, use `newframe = frame.copy()`\n",
      "  fdata[f'MINUS_DM {i}'] = talib.MINUS_DM(data['High'],data['Low'], timeperiod=i)\n",
      "/var/folders/rf/gmx6s6x51w3f6fwrwhjcrzjm0000gn/T/ipykernel_68965/1742581705.py:73: PerformanceWarning: DataFrame is highly fragmented.  This is usually the result of calling `frame.insert` many times, which has poor performance.  Consider joining all columns at once using pd.concat(axis=1) instead.  To get a de-fragmented frame, use `newframe = frame.copy()`\n",
      "  fdata[f'MOM {i}'] = talib.MOM(data['Close'], timeperiod=i)\n",
      "/var/folders/rf/gmx6s6x51w3f6fwrwhjcrzjm0000gn/T/ipykernel_68965/1742581705.py:75: PerformanceWarning: DataFrame is highly fragmented.  This is usually the result of calling `frame.insert` many times, which has poor performance.  Consider joining all columns at once using pd.concat(axis=1) instead.  To get a de-fragmented frame, use `newframe = frame.copy()`\n",
      "  fdata[f'PLUS_DI {i}'] = talib.PLUS_DI(data['High'],data['Low'], data['Close'], timeperiod=i)\n",
      "/var/folders/rf/gmx6s6x51w3f6fwrwhjcrzjm0000gn/T/ipykernel_68965/1742581705.py:77: PerformanceWarning: DataFrame is highly fragmented.  This is usually the result of calling `frame.insert` many times, which has poor performance.  Consider joining all columns at once using pd.concat(axis=1) instead.  To get a de-fragmented frame, use `newframe = frame.copy()`\n",
      "  fdata[f'PLUS_DM {i}'] = talib.PLUS_DM(data['High'],data['Low'], timeperiod=i)\n",
      "/var/folders/rf/gmx6s6x51w3f6fwrwhjcrzjm0000gn/T/ipykernel_68965/1742581705.py:79: PerformanceWarning: DataFrame is highly fragmented.  This is usually the result of calling `frame.insert` many times, which has poor performance.  Consider joining all columns at once using pd.concat(axis=1) instead.  To get a de-fragmented frame, use `newframe = frame.copy()`\n",
      "  fdata[f'PPO {i}'] = talib.PPO(data['Close'], fastperiod=i, slowperiod=i*2, matype=0)\n",
      "/var/folders/rf/gmx6s6x51w3f6fwrwhjcrzjm0000gn/T/ipykernel_68965/1742581705.py:81: PerformanceWarning: DataFrame is highly fragmented.  This is usually the result of calling `frame.insert` many times, which has poor performance.  Consider joining all columns at once using pd.concat(axis=1) instead.  To get a de-fragmented frame, use `newframe = frame.copy()`\n",
      "  fdata[f'ROC {i}'] = talib.ROC(data['Close'], timeperiod=i)\n",
      "/var/folders/rf/gmx6s6x51w3f6fwrwhjcrzjm0000gn/T/ipykernel_68965/1742581705.py:83: PerformanceWarning: DataFrame is highly fragmented.  This is usually the result of calling `frame.insert` many times, which has poor performance.  Consider joining all columns at once using pd.concat(axis=1) instead.  To get a de-fragmented frame, use `newframe = frame.copy()`\n",
      "  fdata[f'ROCP {i}'] = talib.ROCP(data['Close'], timeperiod=i)\n",
      "/var/folders/rf/gmx6s6x51w3f6fwrwhjcrzjm0000gn/T/ipykernel_68965/1742581705.py:85: PerformanceWarning: DataFrame is highly fragmented.  This is usually the result of calling `frame.insert` many times, which has poor performance.  Consider joining all columns at once using pd.concat(axis=1) instead.  To get a de-fragmented frame, use `newframe = frame.copy()`\n",
      "  fdata[f'ROCR {i}'] = talib.ROCR(data['Close'], timeperiod=i)\n",
      "/var/folders/rf/gmx6s6x51w3f6fwrwhjcrzjm0000gn/T/ipykernel_68965/1742581705.py:87: PerformanceWarning: DataFrame is highly fragmented.  This is usually the result of calling `frame.insert` many times, which has poor performance.  Consider joining all columns at once using pd.concat(axis=1) instead.  To get a de-fragmented frame, use `newframe = frame.copy()`\n",
      "  fdata[f'ROCR100 {i}'] = talib.ROCR100(data['Close'], timeperiod=i)\n",
      "/var/folders/rf/gmx6s6x51w3f6fwrwhjcrzjm0000gn/T/ipykernel_68965/1742581705.py:89: PerformanceWarning: DataFrame is highly fragmented.  This is usually the result of calling `frame.insert` many times, which has poor performance.  Consider joining all columns at once using pd.concat(axis=1) instead.  To get a de-fragmented frame, use `newframe = frame.copy()`\n",
      "  fdata[f'RSI {i}'] = talib.RSI(data['Close'], timeperiod=i)\n",
      "/var/folders/rf/gmx6s6x51w3f6fwrwhjcrzjm0000gn/T/ipykernel_68965/1742581705.py:91: PerformanceWarning: DataFrame is highly fragmented.  This is usually the result of calling `frame.insert` many times, which has poor performance.  Consider joining all columns at once using pd.concat(axis=1) instead.  To get a de-fragmented frame, use `newframe = frame.copy()`\n",
      "  fdata[f'STOCH SLOWK {i}'], fdata[f'STOCH SLOWD {i}'] = talib.STOCH(data['High'],data['Low'], data['Close'],\n",
      "/var/folders/rf/gmx6s6x51w3f6fwrwhjcrzjm0000gn/T/ipykernel_68965/1742581705.py:94: PerformanceWarning: DataFrame is highly fragmented.  This is usually the result of calling `frame.insert` many times, which has poor performance.  Consider joining all columns at once using pd.concat(axis=1) instead.  To get a de-fragmented frame, use `newframe = frame.copy()`\n",
      "  fdata[f'STOCHF FASTK {i}'], fdata[f'STOCHF FASTD {i}'] = talib.STOCHF(data['High'],data['Low'], data['Close'],\n",
      "/var/folders/rf/gmx6s6x51w3f6fwrwhjcrzjm0000gn/T/ipykernel_68965/1742581705.py:97: PerformanceWarning: DataFrame is highly fragmented.  This is usually the result of calling `frame.insert` many times, which has poor performance.  Consider joining all columns at once using pd.concat(axis=1) instead.  To get a de-fragmented frame, use `newframe = frame.copy()`\n",
      "  fdata[f'STOCHRSI FASTK {i}'], fdata[f'STOCHRSI FASTD {i}'] = talib.STOCHRSI(data['Close'], timeperiod=i*3,\n",
      "/var/folders/rf/gmx6s6x51w3f6fwrwhjcrzjm0000gn/T/ipykernel_68965/1742581705.py:102: PerformanceWarning: DataFrame is highly fragmented.  This is usually the result of calling `frame.insert` many times, which has poor performance.  Consider joining all columns at once using pd.concat(axis=1) instead.  To get a de-fragmented frame, use `newframe = frame.copy()`\n",
      "  fdata[f'ULTOSC {i}'] = talib.ULTOSC(data['High'],data['Low'], data['Close'], timeperiod1=i, timeperiod2=i*2, timeperiod3=i*3)\n",
      "/var/folders/rf/gmx6s6x51w3f6fwrwhjcrzjm0000gn/T/ipykernel_68965/1742581705.py:104: PerformanceWarning: DataFrame is highly fragmented.  This is usually the result of calling `frame.insert` many times, which has poor performance.  Consider joining all columns at once using pd.concat(axis=1) instead.  To get a de-fragmented frame, use `newframe = frame.copy()`\n",
      "  fdata[f'WILLR {i}'] = talib.WILLR(data['High'],data['Low'], data['Close'], timeperiod=i)\n",
      "/var/folders/rf/gmx6s6x51w3f6fwrwhjcrzjm0000gn/T/ipykernel_68965/1742581705.py:108: PerformanceWarning: DataFrame is highly fragmented.  This is usually the result of calling `frame.insert` many times, which has poor performance.  Consider joining all columns at once using pd.concat(axis=1) instead.  To get a de-fragmented frame, use `newframe = frame.copy()`\n",
      "  fdata[f'ATR {i}'] = talib.ATR(data['High'],data['Low'], data['Close'], timeperiod=i)\n",
      "/var/folders/rf/gmx6s6x51w3f6fwrwhjcrzjm0000gn/T/ipykernel_68965/1742581705.py:110: PerformanceWarning: DataFrame is highly fragmented.  This is usually the result of calling `frame.insert` many times, which has poor performance.  Consider joining all columns at once using pd.concat(axis=1) instead.  To get a de-fragmented frame, use `newframe = frame.copy()`\n",
      "  fdata[f'NATR {i}'] = talib.NATR(data['High'],data['Low'], data['Close'], timeperiod=i)\n",
      "/var/folders/rf/gmx6s6x51w3f6fwrwhjcrzjm0000gn/T/ipykernel_68965/1742581705.py:111: PerformanceWarning: DataFrame is highly fragmented.  This is usually the result of calling `frame.insert` many times, which has poor performance.  Consider joining all columns at once using pd.concat(axis=1) instead.  To get a de-fragmented frame, use `newframe = frame.copy()`\n",
      "  fdata['TRANGE'] = talib.TRANGE(data['High'],data['Low'], data['Close'])\n",
      "/var/folders/rf/gmx6s6x51w3f6fwrwhjcrzjm0000gn/T/ipykernel_68965/1742581705.py:114: PerformanceWarning: DataFrame is highly fragmented.  This is usually the result of calling `frame.insert` many times, which has poor performance.  Consider joining all columns at once using pd.concat(axis=1) instead.  To get a de-fragmented frame, use `newframe = frame.copy()`\n",
      "  fdata['HT_DCPERIOD'] = talib.HT_DCPERIOD(data['Close'])\n",
      "/var/folders/rf/gmx6s6x51w3f6fwrwhjcrzjm0000gn/T/ipykernel_68965/1742581705.py:115: PerformanceWarning: DataFrame is highly fragmented.  This is usually the result of calling `frame.insert` many times, which has poor performance.  Consider joining all columns at once using pd.concat(axis=1) instead.  To get a de-fragmented frame, use `newframe = frame.copy()`\n",
      "  fdata['HT_DCPHASE'] = talib.HT_DCPHASE(data['Close'])\n",
      "/var/folders/rf/gmx6s6x51w3f6fwrwhjcrzjm0000gn/T/ipykernel_68965/1742581705.py:116: PerformanceWarning: DataFrame is highly fragmented.  This is usually the result of calling `frame.insert` many times, which has poor performance.  Consider joining all columns at once using pd.concat(axis=1) instead.  To get a de-fragmented frame, use `newframe = frame.copy()`\n",
      "  fdata['HT_TRENDMODE'] = talib.HT_TRENDMODE(data['Close'])\n",
      "/var/folders/rf/gmx6s6x51w3f6fwrwhjcrzjm0000gn/T/ipykernel_68965/1742581705.py:120: PerformanceWarning: DataFrame is highly fragmented.  This is usually the result of calling `frame.insert` many times, which has poor performance.  Consider joining all columns at once using pd.concat(axis=1) instead.  To get a de-fragmented frame, use `newframe = frame.copy()`\n",
      "  fdata[f'BETA {i}'] = talib.BETA(data['High'],data['Low'], timeperiod=i)\n",
      "/var/folders/rf/gmx6s6x51w3f6fwrwhjcrzjm0000gn/T/ipykernel_68965/1742581705.py:122: PerformanceWarning: DataFrame is highly fragmented.  This is usually the result of calling `frame.insert` many times, which has poor performance.  Consider joining all columns at once using pd.concat(axis=1) instead.  To get a de-fragmented frame, use `newframe = frame.copy()`\n",
      "  fdata[f'CORREL {i}'] = talib.CORREL(data['High'],data['Low'], timeperiod=i)\n",
      "/var/folders/rf/gmx6s6x51w3f6fwrwhjcrzjm0000gn/T/ipykernel_68965/1742581705.py:124: PerformanceWarning: DataFrame is highly fragmented.  This is usually the result of calling `frame.insert` many times, which has poor performance.  Consider joining all columns at once using pd.concat(axis=1) instead.  To get a de-fragmented frame, use `newframe = frame.copy()`\n",
      "  fdata[f'LINEARREG {i}'] = talib.LINEARREG(data['Close'], timeperiod=i)\n",
      "/var/folders/rf/gmx6s6x51w3f6fwrwhjcrzjm0000gn/T/ipykernel_68965/1742581705.py:126: PerformanceWarning: DataFrame is highly fragmented.  This is usually the result of calling `frame.insert` many times, which has poor performance.  Consider joining all columns at once using pd.concat(axis=1) instead.  To get a de-fragmented frame, use `newframe = frame.copy()`\n",
      "  fdata[f'LINEARREG_SLOPE {i}'] = talib.LINEARREG_SLOPE(data['Close'], timeperiod=i)\n",
      "/var/folders/rf/gmx6s6x51w3f6fwrwhjcrzjm0000gn/T/ipykernel_68965/1742581705.py:130: PerformanceWarning: DataFrame is highly fragmented.  This is usually the result of calling `frame.insert` many times, which has poor performance.  Consider joining all columns at once using pd.concat(axis=1) instead.  To get a de-fragmented frame, use `newframe = frame.copy()`\n",
      "  fdata[f'TSF {i}'] = talib.TSF(data['Close'], timeperiod=i)\n",
      "/var/folders/rf/gmx6s6x51w3f6fwrwhjcrzjm0000gn/T/ipykernel_68965/1742581705.py:132: PerformanceWarning: DataFrame is highly fragmented.  This is usually the result of calling `frame.insert` many times, which has poor performance.  Consider joining all columns at once using pd.concat(axis=1) instead.  To get a de-fragmented frame, use `newframe = frame.copy()`\n",
      "  fdata[f'VAR {i}'] = talib.VAR(data['Close'], timeperiod=i, nbdev=1)\n",
      "/var/folders/rf/gmx6s6x51w3f6fwrwhjcrzjm0000gn/T/ipykernel_68965/1742581705.py:136: PerformanceWarning: DataFrame is highly fragmented.  This is usually the result of calling `frame.insert` many times, which has poor performance.  Consider joining all columns at once using pd.concat(axis=1) instead.  To get a de-fragmented frame, use `newframe = frame.copy()`\n",
      "  fdata[f'ADOSC {i}'] = talib.ADOSC(data['High'], data['Low'], data['Close'], data['Volume'], fastperiod=i, slowperiod=i*2)\n",
      "/var/folders/rf/gmx6s6x51w3f6fwrwhjcrzjm0000gn/T/ipykernel_68965/1742581705.py:137: PerformanceWarning: DataFrame is highly fragmented.  This is usually the result of calling `frame.insert` many times, which has poor performance.  Consider joining all columns at once using pd.concat(axis=1) instead.  To get a de-fragmented frame, use `newframe = frame.copy()`\n",
      "  fdata['AD']=talib.AD(data['High'], data['Low'], data['Close'], data['Volume'])\n",
      "/var/folders/rf/gmx6s6x51w3f6fwrwhjcrzjm0000gn/T/ipykernel_68965/1742581705.py:138: PerformanceWarning: DataFrame is highly fragmented.  This is usually the result of calling `frame.insert` many times, which has poor performance.  Consider joining all columns at once using pd.concat(axis=1) instead.  To get a de-fragmented frame, use `newframe = frame.copy()`\n",
      "  fdata['OBV']=talib.OBV(data['Close'], data['Volume'])\n"
     ]
    },
    {
     "data": {
      "text/plain": [
       "1730"
      ]
     },
     "execution_count": 8,
     "metadata": {},
     "output_type": "execute_result"
    }
   ],
   "source": [
    "#Feature Engineering\n",
    "\n",
    "#Basic Features\n",
    "fdata=pd.DataFrame(index=data.index)\n",
    "fdata['DReturn']=(data['Close']/data['Open']).apply(np.log)\n",
    "fdata['Vol']=talib.OBV(data['Close'], data['Volume'])\n",
    "fdata['High']=data['High'].apply(np.log)\n",
    "fdata['Pct Change']=data['Pct Change']\n",
    "\n",
    "period=np.arange(1,31)\n",
    "\n",
    "#Avg\n",
    "for i in range(1,200):\n",
    "    fdata[f'MA {i}']=talib.MA(data['Close'], timeperiod=i, matype=0)    \n",
    "for i in range(2, len(period)):\n",
    "    fdata[f'SMA {i}'] = talib.SMA(data['Close'], timeperiod=i)\n",
    "for i in range(2, len(period)):\n",
    "    fdata[f'DEMA {i}'] = talib.DEMA(data['Close'], timeperiod=i)\n",
    "for i in range(2, len(period)):\n",
    "    fdata[f'TEMA {i}'] = talib.TEMA(data['Close'], timeperiod=i)\n",
    "for i in range(2, len(period)):\n",
    "    fdata[f'EMA {i}'] = talib.EMA(data['Close'], timeperiod=i)\n",
    "for i in range(2, len(period)):\n",
    "    fdata[f'STDDEV {i}'] = talib.STDDEV(data['Close'], timeperiod=i, nbdev=1)\n",
    "for i in range(2, len(period)):\n",
    "    fdata[f'SAREXT {i}'] = talib.SAREXT(data['High'], data['Low'], startvalue=i, offsetonreverse=0, \n",
    "                                        accelerationinitlong=0, accelerationlong=0, accelerationmaxlong=0, \n",
    "                                        accelerationinitshort=0, accelerationshort=0, accelerationmaxshort=0)\n",
    "for i in range(2, len(period)):\n",
    "    fdata[f'WMA {i}'] = talib.WMA(data['Close'], timeperiod=i)\n",
    "for i in range(2, len(period)):\n",
    "    fdata['Price Volitility']=data['Pct Change'].rolling(i).mean()\n",
    "    \n",
    "#Price\n",
    "fdata['AVGPRICE'] = talib.AVGPRICE(data['Open'],data['High'], data['Low'], data['Close']) \n",
    "fdata['MEDPRICE'] = talib.MEDPRICE(data['High'], data['Low'])\n",
    "fdata['TYPPRICE'] = talib.TYPPRICE(data['High'], data['Low'], data['Close'])  \n",
    "fdata['WCLPRICE'] = talib.TYPPRICE(data['High'], data['Low'], data['Close'])  \n",
    "\n",
    "#Moementum\n",
    "for i in range(2, len(period)):\n",
    "    fdata[f'ADX {i}'] = talib.ADX(data['High'],data['Low'], data['Close'], timeperiod=i)\n",
    "for i in range(2, len(period)):\n",
    "    fdata[f'ADXR {i}'] = talib.ADXR(data['High'],data['Low'], data['Close'], timeperiod=i)\n",
    "for i in range(2, len(period)):\n",
    "    fdata[f'APO {i}'] = talib.APO(data['Close'], fastperiod=i, slowperiod=i*2, matype=0)\n",
    "for i in range(2, len(period)):\n",
    "    fdata[f'AROON D{i}'], fdata[f'AROON U{i}'] = talib.AROON(data['High'],data['Low'], timeperiod=i)\n",
    "for i in range(2, len(period)):\n",
    "    fdata[f'AROONOSC {i}'] = talib.AROONOSC(data['High'],data['Low'], timeperiod=i)\n",
    "for i in range(2, len(period)):\n",
    "    fdata[f'BOP {i}'] = talib.BOP(data['Open'], data['High'],data['Low'], data['Close'])\n",
    "for i in range(2, len(period)):\n",
    "    fdata[f'CCI {i}'] = talib.CCI(data['High'],data['Low'], data['Close'], timeperiod=i)\n",
    "for i in range(2, len(period)):\n",
    "    fdata[f'CMO {i}'] = talib.CMO(data['Close'], timeperiod=i)\n",
    "for i in range(2, len(period)):\n",
    "    fdata[f'DX {i}'] = talib.DX(data['High'],data['Low'], data['Close'], timeperiod=i)\n",
    "for i in range(2, len(period)):\n",
    "    fdata[f'MACD MACD {i}'], fdata[f'MACD SIGNAL{i}'], fdata[f'MACD HIST{i}'] = talib.MACD(data['Close'], fastperiod=i, slowperiod=i*2, signalperiod=i)\n",
    "for i in range(2, len(period)):\n",
    "    fdata[f'MACDEXT MACD {i}'], fdata[f'MACDEXT SIGNAL{i}'], fdata[f'MACDEXT HIST{i}'] = talib.MACDEXT(data['Close'], fastperiod=i, fastmatype=0, slowperiod=i*2, \n",
    "                                                                                                       slowmatype=0, signalperiod=9, signalmatype=0)\n",
    "for i in range(2, len(period)):\n",
    "    fdata[f'MACDFIX MACD {i}'], fdata[f'MACDFIX SIGNAL{i}'], fdata[f'MACDFIX HIST{i}'] = talib.MACDFIX(data['Close'], signalperiod=9)\n",
    "for i in range(2, len(period)):\n",
    "    fdata[f'MFI {i}'] = talib.MFI(data['High'],data['Low'], data['Close'], data['Volume'], timeperiod=i)\n",
    "for i in range(2, len(period)):\n",
    "    fdata[f'MINUS_DI {i}'] = talib.MINUS_DI(data['High'],data['Low'], data['Close'], timeperiod=i)\n",
    "for i in range(2, len(period)):\n",
    "    fdata[f'MINUS_DM {i}'] = talib.MINUS_DM(data['High'],data['Low'], timeperiod=i)\n",
    "for i in range(2, len(period)):\n",
    "    fdata[f'MOM {i}'] = talib.MOM(data['Close'], timeperiod=i)\n",
    "for i in range(2, len(period)):\n",
    "    fdata[f'PLUS_DI {i}'] = talib.PLUS_DI(data['High'],data['Low'], data['Close'], timeperiod=i)\n",
    "for i in range(2, len(period)):\n",
    "    fdata[f'PLUS_DM {i}'] = talib.PLUS_DM(data['High'],data['Low'], timeperiod=i)\n",
    "for i in range(2, len(period)):\n",
    "    fdata[f'PPO {i}'] = talib.PPO(data['Close'], fastperiod=i, slowperiod=i*2, matype=0)\n",
    "for i in range(2, len(period)):\n",
    "    fdata[f'ROC {i}'] = talib.ROC(data['Close'], timeperiod=i)\n",
    "for i in range(2, len(period)):\n",
    "    fdata[f'ROCP {i}'] = talib.ROCP(data['Close'], timeperiod=i)\n",
    "for i in range(2, len(period)):\n",
    "    fdata[f'ROCR {i}'] = talib.ROCR(data['Close'], timeperiod=i)\n",
    "for i in range(2, len(period)):\n",
    "    fdata[f'ROCR100 {i}'] = talib.ROCR100(data['Close'], timeperiod=i)\n",
    "for i in range(8, len(period), 6):\n",
    "    fdata[f'RSI {i}'] = talib.RSI(data['Close'], timeperiod=i)\n",
    "for i in range(2, len(period)):\n",
    "    fdata[f'STOCH SLOWK {i}'], fdata[f'STOCH SLOWD {i}'] = talib.STOCH(data['High'],data['Low'], data['Close'], \n",
    "                                                                       fastk_period=5, slowk_period=3, slowk_matype=0, slowd_period=3, slowd_matype=0)\n",
    "for i in range(2, len(period)):\n",
    "    fdata[f'STOCHF FASTK {i}'], fdata[f'STOCHF FASTD {i}'] = talib.STOCHF(data['High'],data['Low'], data['Close'], \n",
    "                                                                          fastk_period=i, fastd_period=round(i/2), fastd_matype=0)\n",
    "for i in range(2, len(period)):\n",
    "    fdata[f'STOCHRSI FASTK {i}'], fdata[f'STOCHRSI FASTD {i}'] = talib.STOCHRSI(data['Close'], timeperiod=i*3, \n",
    "                                                                                fastk_period=round(i/2), fastd_period=round(i/3), fastd_matype=0)\n",
    "for i in range(2, len(period)):\n",
    "    real = talib.TRIX(data['Close'], timeperiod=i)\n",
    "for i in range(2, len(period)):\n",
    "    fdata[f'ULTOSC {i}'] = talib.ULTOSC(data['High'],data['Low'], data['Close'], timeperiod1=i, timeperiod2=i*2, timeperiod3=i*3)\n",
    "for i in range(2, len(period)):\n",
    "    fdata[f'WILLR {i}'] = talib.WILLR(data['High'],data['Low'], data['Close'], timeperiod=i)\n",
    "\n",
    "#Volitility\n",
    "for i in range(2, len(period)):\n",
    "    fdata[f'ATR {i}'] = talib.ATR(data['High'],data['Low'], data['Close'], timeperiod=i)\n",
    "for i in range(2, len(period)):\n",
    "    fdata[f'NATR {i}'] = talib.NATR(data['High'],data['Low'], data['Close'], timeperiod=i)  \n",
    "fdata['TRANGE'] = talib.TRANGE(data['High'],data['Low'], data['Close'])\n",
    "\n",
    "#Cycle Indicators\n",
    "fdata['HT_DCPERIOD'] = talib.HT_DCPERIOD(data['Close'])\n",
    "fdata['HT_DCPHASE'] = talib.HT_DCPHASE(data['Close'])\n",
    "fdata['HT_TRENDMODE'] = talib.HT_TRENDMODE(data['Close'])\n",
    "\n",
    "#Statistic Functions\n",
    "for i in range(2, len(period)):\n",
    "    fdata[f'BETA {i}'] = talib.BETA(data['High'],data['Low'], timeperiod=i)\n",
    "for i in range(2, len(period)):\n",
    "    fdata[f'CORREL {i}'] = talib.CORREL(data['High'],data['Low'], timeperiod=i)\n",
    "for i in range(2, len(period)):\n",
    "    fdata[f'LINEARREG {i}'] = talib.LINEARREG(data['Close'], timeperiod=i)\n",
    "for i in range(2, len(period)):\n",
    "    fdata[f'LINEARREG_SLOPE {i}'] = talib.LINEARREG_SLOPE(data['Close'], timeperiod=i)\n",
    "for i in range(2, len(period)):\n",
    "    fdata[f'STDDEV {i}'] = talib.STDDEV(data['Close'], timeperiod=i, nbdev=1)\n",
    "for i in range(2, len(period)):\n",
    "    fdata[f'TSF {i}'] = talib.TSF(data['Close'], timeperiod=i)\n",
    "for i in range(2, len(period)):\n",
    "    fdata[f'VAR {i}'] = talib.VAR(data['Close'], timeperiod=i, nbdev=1)\n",
    "\n",
    "#Volume Indicator Functions\n",
    "for i in range(2, len(period)):\n",
    "    fdata[f'ADOSC {i}'] = talib.ADOSC(data['High'], data['Low'], data['Close'], data['Volume'], fastperiod=i, slowperiod=i*2)\n",
    "fdata['AD']=talib.AD(data['High'], data['Low'], data['Close'], data['Volume'])\n",
    "fdata['OBV']=talib.OBV(data['Close'], data['Volume'])\n",
    "\n",
    "len(fdata.columns)"
   ]
  },
  {
   "cell_type": "code",
   "execution_count": 9,
   "metadata": {},
   "outputs": [],
   "source": [
    "#Last nan\n",
    "lnan=0\n",
    "for col in range(len(fdata.columns)):\n",
    "    if fdata.reset_index(drop=True).iloc[:,col].first_valid_index()>lnan:\n",
    "        lnan=fdata.iloc[:,col].reset_index(drop=True).first_valid_index()"
   ]
  },
  {
   "cell_type": "code",
   "execution_count": 11,
   "metadata": {},
   "outputs": [],
   "source": [
    "target='Close'"
   ]
  },
  {
   "cell_type": "code",
   "execution_count": 38,
   "metadata": {},
   "outputs": [
    {
     "name": "stderr",
     "output_type": "stream",
     "text": [
      "/Users/advikchaudhary/miniforge3/lib/python3.9/site-packages/sklearn/feature_selection/_univariate_selection.py:112: UserWarning: Features [ 343  344  345  346  347  348  349  350  351  352  353  354  355  356\n",
      "  357  358  359  360  361  362  363  364  365  366  367  368  369  370\n",
      " 1360 1361] are constant.\n",
      "  warnings.warn(\"Features %s are constant.\" % constant_features_idx, UserWarning)\n",
      "/Users/advikchaudhary/miniforge3/lib/python3.9/site-packages/sklearn/feature_selection/_univariate_selection.py:113: RuntimeWarning: invalid value encountered in true_divide\n",
      "  f = msb / msw\n"
     ]
    }
   ],
   "source": [
    "#Feature Selection with scikit regr SPY\n",
    "selector = SelectKBest(f_classif, k=5)\n",
    "sf = selector.fit_transform(fdata[lnan:][:-1], data[lnan:][target].shift(-1).dropna())\n",
    "fnum = selector.get_support(indices=True)"
   ]
  },
  {
   "cell_type": "code",
   "execution_count": 12,
   "metadata": {},
   "outputs": [
    {
     "name": "stderr",
     "output_type": "stream",
     "text": [
      "/Users/advikchaudhary/miniforge3/lib/python3.9/site-packages/sklearn/feature_selection/_univariate_selection.py:289: RuntimeWarning: divide by zero encountered in true_divide\n",
      "  correlation_coefficient /= X_norms\n",
      "/Users/advikchaudhary/miniforge3/lib/python3.9/site-packages/sklearn/feature_selection/_univariate_selection.py:289: RuntimeWarning: invalid value encountered in true_divide\n",
      "  correlation_coefficient /= X_norms\n",
      "/Users/advikchaudhary/miniforge3/lib/python3.9/site-packages/sklearn/feature_selection/_univariate_selection.py:358: RuntimeWarning: invalid value encountered in true_divide\n",
      "  f_statistic = corr_coef_squared / (1 - corr_coef_squared) * deg_of_freedom\n"
     ]
    }
   ],
   "source": [
    "#Feature Selection with scikit regr SPY\n",
    "selector = SelectKBest(f_regression, k=5)\n",
    "sf = selector.fit_transform(fdata[lnan:][:-1], data[lnan:][target].shift(-1).dropna())\n",
    "fnum = selector.get_support(indices=True)"
   ]
  },
  {
   "cell_type": "code",
   "execution_count": 16,
   "metadata": {},
   "outputs": [
    {
     "data": {
      "image/png": "[encoded data removed]",
      "text/plain": [
       "<Figure size 432x288 with 1 Axes>"
      ]
     },
     "metadata": {},
     "output_type": "display_data"
    },
    {
     "data": {
      "text/plain": [
       "0.5277207392197125"
      ]
     },
     "execution_count": 16,
     "metadata": {},
     "output_type": "execute_result"
    }
   ],
   "source": [
    "#Data Splitting\n",
    "#X=fdata[f][lnan:]\n",
    "#X=fdata[mf][lnan:]\n",
    "#X=fdata[lnan:]\n",
    "#X=fdata[['ROC-2','ROC-3','ROCR-2','ROCR-3','ROCP-2','ROCP-3','MOM-2', 'ROCR100-2']]#.dropna()\n",
    "X=fdata[lnan:].iloc[:, fnum[:]].astype('int')\n",
    "#X=fdata[lnan:][['MOM 10', 'MACD HIST4', 'CORREL 3', 'PPO 6', 'MACDEXT HIST5','MACD HIST6', 'MOM 17', 'MOM 13', 'MACDEXT HIST6', 'MACDEXT HIST4']]\n",
    "\n",
    "\n",
    "tmrw=X[-1:]\n",
    "X=X[:-1]\n",
    "\n",
    "y=data[target][lnan:].shift(-1).dropna().astype('int')\n",
    "\n",
    "splitp=int(len(X)*0.75)\n",
    "\n",
    "X_train= X[:splitp]\n",
    "X_test = X[splitp:]\n",
    "y_train= y[:splitp]\n",
    "y_test= y[splitp:]\n",
    "\n",
    "#y_train=y_train.astype('int')\n",
    "#y_test=y_test.astype('int')\n",
    "X_test.columns\n",
    "\n",
    "\n",
    "model=LinearRegression()#svm.SVC()\n",
    "model.fit(X_train, y_train)\n",
    "pred=model.predict(X_test)\n",
    "tpred=model.predict(tmrw)\n",
    "pred=pd.DataFrame(data=pred, index=X_test.index, columns=[\"Prediction\"])\n",
    "tpred=pd.DataFrame(data=tpred, index=tmrw.index)\n",
    "plt.plot(pred)\n",
    "plt.plot(y_test)\n",
    "plt.plot(tpred)\n",
    "plt.show()\n",
    "\n",
    "accuracy_score([1 if i > 0 else 0 for i in pred.pct_change(1)['Prediction']*100], [1 if i > 0 else 0 for i in y_test.pct_change(1)*100])\n",
    "#accuracy_score(y_test, pred['Prediction'])"
   ]
  },
  {
   "cell_type": "code",
   "execution_count": 17,
   "metadata": {},
   "outputs": [
    {
     "data": {
      "text/plain": [
       "(Date\n",
       " 2016-01-29    24824\n",
       " 2016-02-01    24539\n",
       " 2016-02-02    24223\n",
       " 2016-02-03    24338\n",
       " 2016-02-04    24616\n",
       "               ...  \n",
       " 2021-12-31    59183\n",
       " 2022-01-03    59855\n",
       " 2022-01-04    60223\n",
       " 2022-01-05    59601\n",
       " 2022-01-06    59744\n",
       " Name: Close, Length: 1461, dtype: int64,\n",
       "              MA 1  DEMA 2  TEMA 2  TEMA 3  LINEARREG 2\n",
       " Date                                                  \n",
       " 2016-01-29  24870   24830   24854   24829        24870\n",
       " 2016-02-01  24824   24846   24839   24857        24824\n",
       " 2016-02-02  24539   24584   24552   24596        24539\n",
       " 2016-02-03  24223   24254   24222   24252        24223\n",
       " 2016-02-04  24338   24306   24317   24286        24338\n",
       " ...           ...     ...     ...     ...          ...\n",
       " 2021-12-31  58253   58211   58232   58205        58253\n",
       " 2022-01-03  59183   59100   59162   59092        59183\n",
       " 2022-01-04  59855   59833   59869   59851        59855\n",
       " 2022-01-05  60223   60251   60244   60284        60223\n",
       " 2022-01-06  59601   59733   59643   59771        59601\n",
       " \n",
       " [1461 rows x 5 columns])"
      ]
     },
     "execution_count": 17,
     "metadata": {},
     "output_type": "execute_result"
    }
   ],
   "source": [
    "y_test, X_test"
   ]
  },
  {
   "cell_type": "code",
   "execution_count": 28,
   "metadata": {},
   "outputs": [
    {
     "ename": "NameError",
     "evalue": "name 'X_train' is not defined",
     "output_type": "error",
     "traceback": [
      "\u001b[0;31m---------------------------------------------------------------------------\u001b[0m",
      "\u001b[0;31mNameError\u001b[0m                                 Traceback (most recent call last)",
      "\u001b[0;32m/var/folders/rf/gmx6s6x51w3f6fwrwhjcrzjm0000gn/T/ipykernel_28296/34443393.py\u001b[0m in \u001b[0;36m<module>\u001b[0;34m\u001b[0m\n\u001b[1;32m      1\u001b[0m \u001b[0mmodel\u001b[0m\u001b[0;34m=\u001b[0m\u001b[0msvm\u001b[0m\u001b[0;34m.\u001b[0m\u001b[0mSVC\u001b[0m\u001b[0;34m(\u001b[0m\u001b[0;34m)\u001b[0m\u001b[0;31m#RandomForestClassifier()#\u001b[0m\u001b[0;34m\u001b[0m\u001b[0;34m\u001b[0m\u001b[0m\n\u001b[0;32m----> 2\u001b[0;31m \u001b[0mmodel\u001b[0m\u001b[0;34m.\u001b[0m\u001b[0mfit\u001b[0m\u001b[0;34m(\u001b[0m\u001b[0mX_train\u001b[0m\u001b[0;34m,\u001b[0m \u001b[0my_train\u001b[0m\u001b[0;34m)\u001b[0m\u001b[0;34m\u001b[0m\u001b[0;34m\u001b[0m\u001b[0m\n\u001b[0m\u001b[1;32m      3\u001b[0m \u001b[0mpred\u001b[0m\u001b[0;34m=\u001b[0m\u001b[0mmodel\u001b[0m\u001b[0;34m.\u001b[0m\u001b[0mpredict\u001b[0m\u001b[0;34m(\u001b[0m\u001b[0mX_test\u001b[0m\u001b[0;34m)\u001b[0m\u001b[0;34m\u001b[0m\u001b[0;34m\u001b[0m\u001b[0m\n\u001b[1;32m      4\u001b[0m \u001b[0mtpred\u001b[0m\u001b[0;34m=\u001b[0m\u001b[0mmodel\u001b[0m\u001b[0;34m.\u001b[0m\u001b[0mpredict\u001b[0m\u001b[0;34m(\u001b[0m\u001b[0mtmrw\u001b[0m\u001b[0;34m)\u001b[0m\u001b[0;34m\u001b[0m\u001b[0;34m\u001b[0m\u001b[0m\n\u001b[1;32m      5\u001b[0m \u001b[0mpred\u001b[0m\u001b[0;34m=\u001b[0m\u001b[0mpd\u001b[0m\u001b[0;34m.\u001b[0m\u001b[0mDataFrame\u001b[0m\u001b[0;34m(\u001b[0m\u001b[0mdata\u001b[0m\u001b[0;34m=\u001b[0m\u001b[0mpred\u001b[0m\u001b[0;34m,\u001b[0m \u001b[0mindex\u001b[0m\u001b[0;34m=\u001b[0m\u001b[0mX_test\u001b[0m\u001b[0;34m.\u001b[0m\u001b[0mindex\u001b[0m\u001b[0;34m,\u001b[0m \u001b[0mcolumns\u001b[0m\u001b[0;34m=\u001b[0m\u001b[0;34m[\u001b[0m\u001b[0;34m\"Prediction\"\u001b[0m\u001b[0;34m]\u001b[0m\u001b[0;34m)\u001b[0m\u001b[0;34m\u001b[0m\u001b[0;34m\u001b[0m\u001b[0m\n",
      "\u001b[0;31mNameError\u001b[0m: name 'X_train' is not defined"
     ]
    }
   ],
   "source": [
    "model=svm.SVC()#RandomForestClassifier()#\n",
    "model.fit(X_train, y_train)\n",
    "pred=model.predict(X_test)\n",
    "tpred=model.predict(tmrw)\n",
    "pred=pd.DataFrame(data=pred, index=X_test.index, columns=[\"Prediction\"])\n",
    "tpred=pd.DataFrame(data=tpred, index=tmrw.index)"
   ]
  },
  {
   "cell_type": "code",
   "execution_count": 44,
   "metadata": {},
   "outputs": [
    {
     "data": {
      "text/plain": [
       "0.42052194543297744"
      ]
     },
     "execution_count": 44,
     "metadata": {},
     "output_type": "execute_result"
    }
   ],
   "source": [
    "accuracy_score(y_test, pred['Prediction'])"
   ]
  },
  {
   "cell_type": "code",
   "execution_count": 12,
   "metadata": {},
   "outputs": [
    {
     "ename": "ValueError",
     "evalue": "'max_features' should be 0 and 1 features.Got 5 instead.",
     "output_type": "error",
     "traceback": [
      "\u001b[0;31m---------------------------------------------------------------------------\u001b[0m",
      "\u001b[0;31mValueError\u001b[0m                                Traceback (most recent call last)",
      "\u001b[0;32m/var/folders/rf/gmx6s6x51w3f6fwrwhjcrzjm0000gn/T/ipykernel_28296/1722389628.py\u001b[0m in \u001b[0;36m<module>\u001b[0;34m\u001b[0m\n\u001b[1;32m      1\u001b[0m \u001b[0;31m#Feature Selection with scikit models\u001b[0m\u001b[0;34m\u001b[0m\u001b[0;34m\u001b[0m\u001b[0m\n\u001b[1;32m      2\u001b[0m \u001b[0mst\u001b[0m \u001b[0;34m=\u001b[0m \u001b[0mtime\u001b[0m\u001b[0;34m.\u001b[0m\u001b[0mtime\u001b[0m\u001b[0;34m(\u001b[0m\u001b[0;34m)\u001b[0m\u001b[0;34m\u001b[0m\u001b[0;34m\u001b[0m\u001b[0m\n\u001b[0;32m----> 3\u001b[0;31m \u001b[0mmodel\u001b[0m \u001b[0;34m=\u001b[0m \u001b[0mSelectFromModel\u001b[0m\u001b[0;34m(\u001b[0m\u001b[0mestimator\u001b[0m\u001b[0;34m=\u001b[0m\u001b[0mLogisticRegression\u001b[0m\u001b[0;34m(\u001b[0m\u001b[0;34m)\u001b[0m\u001b[0;34m,\u001b[0m \u001b[0mmax_features\u001b[0m\u001b[0;34m=\u001b[0m\u001b[0;36m5\u001b[0m\u001b[0;34m)\u001b[0m\u001b[0;34m.\u001b[0m\u001b[0mfit\u001b[0m\u001b[0;34m(\u001b[0m\u001b[0mfdata\u001b[0m\u001b[0;34m[\u001b[0m\u001b[0mlnan\u001b[0m\u001b[0;34m:\u001b[0m\u001b[0;34m]\u001b[0m\u001b[0;34m[\u001b[0m\u001b[0;34m:\u001b[0m\u001b[0;34m-\u001b[0m\u001b[0;36m1\u001b[0m\u001b[0;34m]\u001b[0m\u001b[0;34m,\u001b[0m \u001b[0mdata\u001b[0m\u001b[0;34m[\u001b[0m\u001b[0mlnan\u001b[0m\u001b[0;34m:\u001b[0m\u001b[0;34m]\u001b[0m\u001b[0;34m[\u001b[0m\u001b[0mtarget\u001b[0m\u001b[0;34m]\u001b[0m\u001b[0;34m.\u001b[0m\u001b[0mshift\u001b[0m\u001b[0;34m(\u001b[0m\u001b[0;34m-\u001b[0m\u001b[0;36m1\u001b[0m\u001b[0;34m)\u001b[0m\u001b[0;34m.\u001b[0m\u001b[0mdropna\u001b[0m\u001b[0;34m(\u001b[0m\u001b[0;34m)\u001b[0m\u001b[0;34m)\u001b[0m\u001b[0;34m\u001b[0m\u001b[0;34m\u001b[0m\u001b[0m\n\u001b[0m\u001b[1;32m      4\u001b[0m \u001b[0mfnum\u001b[0m\u001b[0;34m=\u001b[0m\u001b[0mmodel\u001b[0m\u001b[0;34m.\u001b[0m\u001b[0mget_support\u001b[0m\u001b[0;34m(\u001b[0m\u001b[0mindices\u001b[0m\u001b[0;34m=\u001b[0m\u001b[0;32mTrue\u001b[0m\u001b[0;34m)\u001b[0m\u001b[0;34m\u001b[0m\u001b[0;34m\u001b[0m\u001b[0m\n\u001b[1;32m      5\u001b[0m \u001b[0mprint\u001b[0m\u001b[0;34m(\u001b[0m\u001b[0;34m\"Time Taken: \"\u001b[0m\u001b[0;34m,\u001b[0m\u001b[0mtime\u001b[0m\u001b[0;34m.\u001b[0m\u001b[0mtime\u001b[0m\u001b[0;34m(\u001b[0m\u001b[0;34m)\u001b[0m\u001b[0;34m-\u001b[0m\u001b[0mst\u001b[0m\u001b[0;34m)\u001b[0m\u001b[0;34m\u001b[0m\u001b[0;34m\u001b[0m\u001b[0m\n",
      "\u001b[0;32m~/miniforge3/lib/python3.9/site-packages/sklearn/feature_selection/_from_model.py\u001b[0m in \u001b[0;36mfit\u001b[0;34m(self, X, y, **fit_params)\u001b[0m\n\u001b[1;32m    256\u001b[0m                 )\n\u001b[1;32m    257\u001b[0m             \u001b[0;32melif\u001b[0m \u001b[0mself\u001b[0m\u001b[0;34m.\u001b[0m\u001b[0mmax_features\u001b[0m \u001b[0;34m<\u001b[0m \u001b[0;36m0\u001b[0m \u001b[0;32mor\u001b[0m \u001b[0mself\u001b[0m\u001b[0;34m.\u001b[0m\u001b[0mmax_features\u001b[0m \u001b[0;34m>\u001b[0m \u001b[0mX\u001b[0m\u001b[0;34m.\u001b[0m\u001b[0mshape\u001b[0m\u001b[0;34m[\u001b[0m\u001b[0;36m1\u001b[0m\u001b[0;34m]\u001b[0m\u001b[0;34m:\u001b[0m\u001b[0;34m\u001b[0m\u001b[0;34m\u001b[0m\u001b[0m\n\u001b[0;32m--> 258\u001b[0;31m                 raise ValueError(\n\u001b[0m\u001b[1;32m    259\u001b[0m                     \"'max_features' should be 0 and {} features.Got {} instead.\".format(\n\u001b[1;32m    260\u001b[0m                         \u001b[0mX\u001b[0m\u001b[0;34m.\u001b[0m\u001b[0mshape\u001b[0m\u001b[0;34m[\u001b[0m\u001b[0;36m1\u001b[0m\u001b[0;34m]\u001b[0m\u001b[0;34m,\u001b[0m \u001b[0mself\u001b[0m\u001b[0;34m.\u001b[0m\u001b[0mmax_features\u001b[0m\u001b[0;34m\u001b[0m\u001b[0;34m\u001b[0m\u001b[0m\n",
      "\u001b[0;31mValueError\u001b[0m: 'max_features' should be 0 and 1 features.Got 5 instead."
     ]
    }
   ],
   "source": [
    "#Feature Selection with scikit models\n",
    "st = time.time()\n",
    "model = SelectFromModel(estimator=LogisticRegression(), max_features=5).fit(fdata[lnan:][:-1], data[lnan:][target].shift(-1).dropna())\n",
    "fnum=model.get_support(indices=True)\n",
    "print(\"Time Taken: \",time.time()-st)"
   ]
  },
  {
   "cell_type": "code",
   "execution_count": 13,
   "metadata": {},
   "outputs": [],
   "source": [
    "fsel=[f_classif,mutual_info_classif,LogisticRegression,DecisionTreeClassifier,RandomForestClassifier]\n",
    "m=3-1\n",
    "max=60\n",
    "fscore=pd.DataFrame(index=np.arange(len(fsel)))\n",
    "fscore['Feature S']=None\n",
    "fscore['No. Features']=None\n",
    "fscore['Model']=None\n",
    "fscore['Deviation']=None\n",
    "fscore['Error MAE']=None\n",
    "fscore['Error R2']=None\n",
    "fscore['Accuracy']=None\n"
   ]
  },
  {
   "cell_type": "code",
   "execution_count": 29,
   "metadata": {},
   "outputs": [
    {
     "name": "stdout",
     "output_type": "stream",
     "text": [
      "---FEATURE S: f_classif---\n"
     ]
    },
    {
     "ename": "TypeError",
     "evalue": "slice indices must be integers or None or have an __index__ method",
     "output_type": "error",
     "traceback": [
      "\u001b[0;31m---------------------------------------------------------------------------\u001b[0m",
      "\u001b[0;31mTypeError\u001b[0m                                 Traceback (most recent call last)",
      "\u001b[0;32m/var/folders/rf/gmx6s6x51w3f6fwrwhjcrzjm0000gn/T/ipykernel_28296/1990000130.py\u001b[0m in \u001b[0;36m<module>\u001b[0;34m\u001b[0m\n\u001b[1;32m      6\u001b[0m \u001b[0;34m\u001b[0m\u001b[0m\n\u001b[1;32m      7\u001b[0m    \u001b[0;31m#if fsel[featurenum].__name__=='Lasso' or fsel[featurenum].__name__=='LogisticRegression' or fsel[featurenum].__name__=='LinearRegression':\u001b[0m\u001b[0;34m\u001b[0m\u001b[0;34m\u001b[0m\u001b[0m\n\u001b[0;32m----> 8\u001b[0;31m    \u001b[0;32mif\u001b[0m \u001b[0mfsel\u001b[0m\u001b[0;34m[\u001b[0m\u001b[0mfeaturenum\u001b[0m\u001b[0;34m]\u001b[0m\u001b[0;32min\u001b[0m \u001b[0mfsel\u001b[0m\u001b[0;34m[\u001b[0m\u001b[0mm\u001b[0m\u001b[0;34m:\u001b[0m\u001b[0;34m]\u001b[0m\u001b[0;34m:\u001b[0m\u001b[0;34m\u001b[0m\u001b[0;34m\u001b[0m\u001b[0m\n\u001b[0m\u001b[1;32m      9\u001b[0m        \u001b[0mmodel\u001b[0m \u001b[0;34m=\u001b[0m \u001b[0mSelectFromModel\u001b[0m\u001b[0;34m(\u001b[0m\u001b[0mestimator\u001b[0m\u001b[0;34m=\u001b[0m\u001b[0mfsel\u001b[0m\u001b[0;34m[\u001b[0m\u001b[0mfeaturenum\u001b[0m\u001b[0;34m]\u001b[0m\u001b[0;34m(\u001b[0m\u001b[0;34m)\u001b[0m\u001b[0;34m,\u001b[0m \u001b[0mmax_features\u001b[0m\u001b[0;34m=\u001b[0m\u001b[0mk\u001b[0m\u001b[0;34m)\u001b[0m\u001b[0;34m.\u001b[0m\u001b[0mfit\u001b[0m\u001b[0;34m(\u001b[0m\u001b[0mfdata\u001b[0m\u001b[0;34m[\u001b[0m\u001b[0mlnan\u001b[0m\u001b[0;34m:\u001b[0m\u001b[0;34m]\u001b[0m\u001b[0;34m[\u001b[0m\u001b[0;34m:\u001b[0m\u001b[0;34m-\u001b[0m\u001b[0;36m1\u001b[0m\u001b[0;34m]\u001b[0m\u001b[0;34m,\u001b[0m \u001b[0mdata\u001b[0m\u001b[0;34m[\u001b[0m\u001b[0mlnan\u001b[0m\u001b[0;34m:\u001b[0m\u001b[0;34m]\u001b[0m\u001b[0;34m[\u001b[0m\u001b[0mtarget\u001b[0m\u001b[0;34m]\u001b[0m\u001b[0;34m.\u001b[0m\u001b[0mshift\u001b[0m\u001b[0;34m(\u001b[0m\u001b[0;34m-\u001b[0m\u001b[0;36m1\u001b[0m\u001b[0;34m)\u001b[0m\u001b[0;34m.\u001b[0m\u001b[0mdropna\u001b[0m\u001b[0;34m(\u001b[0m\u001b[0;34m)\u001b[0m\u001b[0;34m.\u001b[0m\u001b[0mastype\u001b[0m\u001b[0;34m(\u001b[0m\u001b[0;34m'int'\u001b[0m\u001b[0;34m)\u001b[0m\u001b[0;34m)\u001b[0m\u001b[0;34m\u001b[0m\u001b[0;34m\u001b[0m\u001b[0m\n\u001b[1;32m     10\u001b[0m        \u001b[0mfnum\u001b[0m\u001b[0;34m=\u001b[0m\u001b[0mmodel\u001b[0m\u001b[0;34m.\u001b[0m\u001b[0mget_support\u001b[0m\u001b[0;34m(\u001b[0m\u001b[0mindices\u001b[0m\u001b[0;34m=\u001b[0m\u001b[0;32mTrue\u001b[0m\u001b[0;34m)\u001b[0m\u001b[0;34m\u001b[0m\u001b[0;34m\u001b[0m\u001b[0m\n",
      "\u001b[0;31mTypeError\u001b[0m: slice indices must be integers or None or have an __index__ method"
     ]
    }
   ],
   "source": [
    " for featurenum in range(len(fsel)):\n",
    "    print(f\"---FEATURE S: {fsel[featurenum].__name__}---\")\n",
    "    #Feature Selection with scikit regr SPY\n",
    "    \n",
    "    k=5\n",
    "    \n",
    "    #if fsel[featurenum].__name__=='Lasso' or fsel[featurenum].__name__=='LogisticRegression' or fsel[featurenum].__name__=='LinearRegression':\n",
    "    if fsel[featurenum]in fsel[m:]:\n",
    "        model = SelectFromModel(estimator=fsel[featurenum](), max_features=k).fit(fdata[lnan:][:-1], data[lnan:][target].shift(-1).dropna().astype('int'))\n",
    "        fnum=model.get_support(indices=True)\n",
    "        \n",
    "    else:\n",
    "        selector = SelectKBest(fsel[featurenum], k)\n",
    "        sf = selector.fit_transform(fdata[lnan:][:-1], data[lnan:][target].shift(-1).dropna().astype('int'))\n",
    "        fnum = selector.get_support(indices=True) \n",
    "    \n",
    "    \n",
    "    #Data Splitting\n",
    "    #X=fdata[f][lnan:]\n",
    "    #X=fdata[mf][lnan:]\n",
    "    #X=fdata[lnan:]\n",
    "    #X=fdata[['ROC-2','ROC-3','ROCR-2','ROCR-3','ROCP-2','ROCP-3','MOM-2', 'ROCR100-2']]#.dropna()\n",
    "    X=fdata[lnan:].iloc[:, fnum[:]].astype('int')\n",
    "    #X=fdata[lnan:][['MOM 10', 'MACD HIST4', 'CORREL 3', 'PPO 6', 'MACDEXT HIST5','MACD HIST6', 'MOM 17', 'MOM 13', 'MACDEXT HIST6', 'MACDEXT HIST4']]\n",
    "\n",
    "\n",
    "    tmrw=X[-1:]\n",
    "    X=X[:-1]\n",
    "\n",
    "    y=data[target][lnan:].shift(-1).dropna().astype('int')\n",
    "\n",
    "    splitp=int(len(X)*0.75)\n",
    "\n",
    "    X_train= X[:splitp]\n",
    "    X_test = X[splitp:]\n",
    "    y_train= y[:splitp]\n",
    "    y_test= y[splitp:]\n",
    "\n",
    "    #y_train=y_train.astype('int')\n",
    "    #y_test=y_test.astype('int')\n",
    "    X_test.columns\n",
    "    \n",
    "    \n",
    "    model=svm.SVC()\n",
    "    model.fit(X_train, y_train)\n",
    "    pred=model.predict(X_test)\n",
    "    tpred=model.predict(tmrw)\n",
    "    pred=pd.DataFrame(data=pred, index=X_test.index, columns=[\"Prediction\"])\n",
    "    tpred=pd.DataFrame(data=tpred, index=tmrw.index)\n",
    "    plt.show()\n",
    "    \n",
    "    accs = {}\n",
    "    for i in np.arange(0,(len(y_test))-10,10):\n",
    "        score=accuracy_score(y_test[i:i+10].astype('int'), pred['Prediction'][i:i+10].astype('int'))\n",
    "        accs.update({f\"{i}-{i+10}\":score})\n",
    "        \n",
    "    fscore['Model'].iloc[featurenum]=model\n",
    "    fscore['No. Features'].iloc[featurenum]=k\n",
    "    fscore['Feature S'].iloc[featurenum]=fsel[featurenum].__name__\n",
    "    fscore['Deviation'].iloc[featurenum]=np.std(list(accs.values()))\n",
    "    fscore['Accuracy'].iloc[featurenum]=accuracy_score(y_test, pred['Prediction'])"
   ]
  },
  {
   "cell_type": "code",
   "execution_count": 75,
   "metadata": {},
   "outputs": [],
   "source": [
    "fscore.to_csv(f\"FC-{ticker}-{target}.csv\", index=False)"
   ]
  },
  {
   "cell_type": "code",
   "execution_count": null,
   "metadata": {},
   "outputs": [],
   "source": []
  }
 ],
 "metadata": {
  "kernelspec": {
   "display_name": "Python 3",
   "language": "python",
   "name": "python3"
  },
  "language_info": {
   "codemirror_mode": {
    "name": "ipython",
    "version": 3
   },
   "file_extension": ".py",
   "mimetype": "text/x-python",
   "name": "python",
   "nbconvert_exporter": "python",
   "pygments_lexer": "ipython3",
   "version": "3.9.7"
  }
 },
 "nbformat": 4,
 "nbformat_minor": 4
}

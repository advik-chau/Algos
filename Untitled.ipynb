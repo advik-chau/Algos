{
 "cells": [
  {
   "cell_type": "code",
   "execution_count": 1,
   "metadata": {},
   "outputs": [
    {
     "name": "stderr",
     "output_type": "stream",
     "text": [
      "/Users/advikchaudhary/opt/anaconda3/lib/python3.7/site-packages/pandas_datareader/compat/__init__.py:7: FutureWarning: pandas.util.testing is deprecated. Use the functions in the public API at pandas.testing instead.\n",
      "  from pandas.util.testing import assert_frame_equal\n"
     ]
    }
   ],
   "source": [
    "import numpy as np\n",
    "import pandas as pd\n",
    "import matplotlib.pyplot as plt\n",
    "plt.style.use(\"seaborn-bright\")\n",
    "plt.rcParams['lines.linewidth'] = 2\n",
    "import pandas_datareader as web\n",
    "import datetime as dt"
   ]
  },
  {
   "cell_type": "code",
   "execution_count": 2,
   "metadata": {},
   "outputs": [],
   "source": [
    "start=\"1-1-2017\"\n",
    "end=dt.datetime.today()\n",
    "ticker=\"SPY\"\n",
    "data=web.DataReader(ticker,\"yahoo\",start,end)\n",
    "close=data[\"Adj Close\"]\n",
    "close=close.reset_index(drop=True)\n",
    "inv=10000"
   ]
  },
  {
   "cell_type": "code",
   "execution_count": 3,
   "metadata": {},
   "outputs": [],
   "source": [
    "def bbstrat(win,std):\n",
    "    mavg=close.rolling(win).mean()\n",
    "    rstd=close.rolling(std).std()\n",
    "    nstd=2\n",
    "    bbhi=mavg+(rstd*nstd)\n",
    "    bblo=mavg-(rstd*nstd)\n",
    "        #plt.plot(bbhi,\"r\")\n",
    "        #plt.plot(bblo,\"g\")\n",
    "        #plt.plot(close,\"b\")\n",
    "        #plt.fill_between(bbhi.index,bbhi,bblo,color='lightgrey')\n",
    "        #plt.show()\n",
    "    data['Position']=None\n",
    "    data['Market Return']=((data['Close']-data['Open'])/data['Close'])*100\n",
    "    position=data['Position']\n",
    "    for i in range(len(close)):\n",
    "        if close[i]>bbhi[i] and close[i-1]<bbhi[i]:\n",
    "            data['Position'].iloc[i]=1\n",
    "        elif close[i]<bbhi[i] and close[i-1]>bbhi[i]:\n",
    "            data['Position'].iloc[i]=-1\n",
    "\n",
    "    t = np.log(data['Adj Close'] / data['Adj Close'].shift(1))*data['Position']*inv\n",
    "    data['Strategy Return'] = data['Market Return'] * data['Position']*inv\n",
    "    data['Strategy Return'].cumsum().plot()\n",
    "    #print(pnl)"
   ]
  },
  {
   "cell_type": "code",
   "execution_count": null,
   "metadata": {},
   "outputs": [],
   "source": []
  }
 ],
 "metadata": {
  "kernelspec": {
   "display_name": "Python 3",
   "language": "python",
   "name": "python3"
  },
  "language_info": {
   "codemirror_mode": {
    "name": "ipython",
    "version": 3
   },
   "file_extension": ".py",
   "mimetype": "text/x-python",
   "name": "python",
   "nbconvert_exporter": "python",
   "pygments_lexer": "ipython3",
   "version": "3.7.6"
  }
 },
 "nbformat": 4,
 "nbformat_minor": 4
}
